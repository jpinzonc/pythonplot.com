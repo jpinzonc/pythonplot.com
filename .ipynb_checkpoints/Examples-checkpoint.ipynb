{
 "cells": [
  {
   "cell_type": "code",
   "execution_count": 1,
   "metadata": {},
   "outputs": [],
   "source": [
    "import pandas as pd\n",
    "import seaborn as sns\n",
    "import matplotlib.pyplot as plt\n",
    "from plotnine import *\n",
    "import numpy as np\n",
    "\n",
    "import plotly.figure_factory as FF\n",
    "import plotly.plotly as py\n",
    "\n",
    "from IPython.display import Image\n",
    "\n",
    "# This is necesary to have access to R code Use this code to install it in Conda (conda install -c r rpy2)\n",
    "%load_ext rpy2.ipython\n",
    "import warnings\n",
    "warnings.filterwarnings('ignore')\n",
    "\n",
    "from pylab import rcParams\n",
    "size = 20\n",
    "params = {'legend.fontsize': size,\n",
    "          'figure.figsize': (15, 5),\n",
    "         'axes.labelsize': size, \n",
    "         'axes.titlesize':size, \n",
    "         'xtick.labelsize':size, \n",
    "         'ytick.labelsize':size, \n",
    "          'axes.titlesize':1.5*size, \n",
    "         'figure.figsize': (12, 12)}\n",
    "rcParams.update(params)\n",
    "theme_update(figure_size=(9, 9), title=element_text(size=size), text=element_text(size=.6*size)) # for plotnine"
   ]
  },
  {
   "cell_type": "code",
   "execution_count": 2,
   "metadata": {},
   "outputs": [],
   "source": [
    "%%R\n",
    "#install.packages(\"ggplot2\", repos='http://cran.us.r-project.org')\n",
    "library(ggplot2) \n",
    "theme_set(theme_grey(base_size = 24))"
   ]
  },
  {
   "cell_type": "markdown",
   "metadata": {},
   "source": [
    "Outline\n",
    "\n",
    "* Plots \n",
    "    * Bar \n",
    "    * Histogram\n",
    "    * Scatter \n",
    "    * Box and whisker\n",
    "    * Line \n",
    "        * Time series\n",
    "* Extensions\n",
    "    * Faceting on categorical\n",
    "    * Stacked bar/histogram\n",
    "    * Line over scatter\n",
    "    * Multi color/symbol scatter\n",
    "    * Multiple line plots\n",
    "* Modifications\n",
    "    * Log scaled axes\n",
    "    * Time labeled axes\n",
    "    * Histogram bin-width\n",
    "    * Aspect ratio\n",
    "    * Axis boundaries\n"
   ]
  },
  {
   "cell_type": "markdown",
   "metadata": {},
   "source": [
    "## Load Data"
   ]
  },
  {
   "cell_type": "markdown",
   "metadata": {},
   "source": [
    "Data is from [ggplot2](http://ggplot2.tidyverse.org/reference/mpg.html).\n",
    "\n",
    "Many ggplot examples taken from [R for data science](http://r4ds.had.co.nz/visualize.html) by Garrett Grolemund and Hadley Wickham."
   ]
  },
  {
   "cell_type": "code",
   "execution_count": 3,
   "metadata": {},
   "outputs": [
    {
     "data": {
      "text/plain": [
       " manufacturer          model               displ            year     \n",
       " Length:234         Length:234         Min.   :1.600   Min.   :1999  \n",
       " Class :character   Class :character   1st Qu.:2.400   1st Qu.:1999  \n",
       " Mode  :character   Mode  :character   Median :3.300   Median :2004  \n",
       "                                       Mean   :3.472   Mean   :2004  \n",
       "                                       3rd Qu.:4.600   3rd Qu.:2008  \n",
       "                                       Max.   :7.000   Max.   :2008  \n",
       "      cyl           trans               drv                 cty       \n",
       " Min.   :4.000   Length:234         Length:234         Min.   : 9.00  \n",
       " 1st Qu.:4.000   Class :character   Class :character   1st Qu.:14.00  \n",
       " Median :6.000   Mode  :character   Mode  :character   Median :17.00  \n",
       " Mean   :5.889                                         Mean   :16.86  \n",
       " 3rd Qu.:8.000                                         3rd Qu.:19.00  \n",
       " Max.   :8.000                                         Max.   :35.00  \n",
       "      hwy             fl               class          \n",
       " Min.   :12.00   Length:234         Length:234        \n",
       " 1st Qu.:18.00   Class :character   Class :character  \n",
       " Median :24.00   Mode  :character   Mode  :character  \n",
       " Mean   :23.44                                        \n",
       " 3rd Qu.:27.00                                        \n",
       " Max.   :44.00                                        \n"
      ]
     },
     "metadata": {},
     "output_type": "display_data"
    }
   ],
   "source": [
    "%%R\n",
    "summary(mpg)"
   ]
  },
  {
   "cell_type": "code",
   "execution_count": 4,
   "metadata": {},
   "outputs": [],
   "source": [
    "%%R\n",
    "mpg = mpg"
   ]
  },
  {
   "cell_type": "code",
   "execution_count": 3,
   "metadata": {},
   "outputs": [],
   "source": [
    "mpg = pd.read_csv('https://raw.githubusercontent.com/tidyverse/ggplot2/master/data-raw/mpg.csv')\n",
    "diamonds = pd.read_csv('https://raw.githubusercontent.com/tidyverse/ggplot2/master/data-raw/diamonds.csv')\n",
    "\n",
    "ts = (pd\n",
    "      .Series(np.random.randn(1000), \n",
    "              index=pd.date_range('1/1/2000', periods=1000))\n",
    "      .cumsum()\n",
    "      .to_frame()\n",
    "      .reset_index()\n",
    "     )\n",
    "ts.columns = ['date', 'value']"
   ]
  },
  {
   "cell_type": "code",
   "execution_count": 6,
   "metadata": {
    "tags": [
     "data",
     "name:ts"
    ]
   },
   "outputs": [
    {
     "data": {
      "text/html": [
       "<table border=\"1\" class=\"dataframe\">\n",
       "  <thead>\n",
       "    <tr style=\"text-align: right;\">\n",
       "      <th>date</th>\n",
       "      <th>value</th>\n",
       "    </tr>\n",
       "  </thead>\n",
       "  <tbody>\n",
       "    <tr>\n",
       "      <td>2000-01-01</td>\n",
       "      <td>1.160022</td>\n",
       "    </tr>\n",
       "    <tr>\n",
       "      <td>2000-01-02</td>\n",
       "      <td>1.936944</td>\n",
       "    </tr>\n",
       "    <tr>\n",
       "      <td>2000-01-03</td>\n",
       "      <td>1.083612</td>\n",
       "    </tr>\n",
       "    <tr>\n",
       "      <td>2000-01-04</td>\n",
       "      <td>1.856848</td>\n",
       "    </tr>\n",
       "    <tr>\n",
       "      <td>2000-01-05</td>\n",
       "      <td>2.721164</td>\n",
       "    </tr>\n",
       "  </tbody>\n",
       "</table>"
      ],
      "text/plain": [
       "<IPython.core.display.HTML object>"
      ]
     },
     "metadata": {},
     "output_type": "display_data"
    }
   ],
   "source": [
    "from IPython.display import display, HTML\n",
    "display(HTML(ts.head(5).to_html(index=False)))"
   ]
  },
  {
   "cell_type": "code",
   "execution_count": 7,
   "metadata": {
    "tags": [
     "data",
     "name:mpg"
    ]
   },
   "outputs": [
    {
     "data": {
      "text/html": [
       "<table border=\"1\" class=\"dataframe\">\n",
       "  <thead>\n",
       "    <tr style=\"text-align: right;\">\n",
       "      <th>manufacturer</th>\n",
       "      <th>model</th>\n",
       "      <th>displ</th>\n",
       "      <th>year</th>\n",
       "      <th>cyl</th>\n",
       "      <th>trans</th>\n",
       "      <th>drv</th>\n",
       "      <th>cty</th>\n",
       "      <th>hwy</th>\n",
       "      <th>fl</th>\n",
       "      <th>class</th>\n",
       "    </tr>\n",
       "  </thead>\n",
       "  <tbody>\n",
       "    <tr>\n",
       "      <td>audi</td>\n",
       "      <td>a4</td>\n",
       "      <td>1.8</td>\n",
       "      <td>1999</td>\n",
       "      <td>4</td>\n",
       "      <td>auto(l5)</td>\n",
       "      <td>f</td>\n",
       "      <td>18</td>\n",
       "      <td>29</td>\n",
       "      <td>p</td>\n",
       "      <td>compact</td>\n",
       "    </tr>\n",
       "    <tr>\n",
       "      <td>audi</td>\n",
       "      <td>a4</td>\n",
       "      <td>1.8</td>\n",
       "      <td>1999</td>\n",
       "      <td>4</td>\n",
       "      <td>manual(m5)</td>\n",
       "      <td>f</td>\n",
       "      <td>21</td>\n",
       "      <td>29</td>\n",
       "      <td>p</td>\n",
       "      <td>compact</td>\n",
       "    </tr>\n",
       "    <tr>\n",
       "      <td>audi</td>\n",
       "      <td>a4</td>\n",
       "      <td>2.0</td>\n",
       "      <td>2008</td>\n",
       "      <td>4</td>\n",
       "      <td>manual(m6)</td>\n",
       "      <td>f</td>\n",
       "      <td>20</td>\n",
       "      <td>31</td>\n",
       "      <td>p</td>\n",
       "      <td>compact</td>\n",
       "    </tr>\n",
       "    <tr>\n",
       "      <td>audi</td>\n",
       "      <td>a4</td>\n",
       "      <td>2.0</td>\n",
       "      <td>2008</td>\n",
       "      <td>4</td>\n",
       "      <td>auto(av)</td>\n",
       "      <td>f</td>\n",
       "      <td>21</td>\n",
       "      <td>30</td>\n",
       "      <td>p</td>\n",
       "      <td>compact</td>\n",
       "    </tr>\n",
       "    <tr>\n",
       "      <td>audi</td>\n",
       "      <td>a4</td>\n",
       "      <td>2.8</td>\n",
       "      <td>1999</td>\n",
       "      <td>6</td>\n",
       "      <td>auto(l5)</td>\n",
       "      <td>f</td>\n",
       "      <td>16</td>\n",
       "      <td>26</td>\n",
       "      <td>p</td>\n",
       "      <td>compact</td>\n",
       "    </tr>\n",
       "  </tbody>\n",
       "</table>"
      ],
      "text/plain": [
       "<IPython.core.display.HTML object>"
      ]
     },
     "metadata": {},
     "output_type": "display_data"
    }
   ],
   "source": [
    "display(HTML(mpg.head(5).to_html(index=False)))"
   ]
  },
  {
   "cell_type": "code",
   "execution_count": 8,
   "metadata": {
    "tags": [
     "data",
     "name:diamonds"
    ]
   },
   "outputs": [
    {
     "data": {
      "text/html": [
       "<table border=\"1\" class=\"dataframe\">\n",
       "  <thead>\n",
       "    <tr style=\"text-align: right;\">\n",
       "      <th>carat</th>\n",
       "      <th>cut</th>\n",
       "      <th>color</th>\n",
       "      <th>clarity</th>\n",
       "      <th>depth</th>\n",
       "      <th>table</th>\n",
       "      <th>price</th>\n",
       "      <th>x</th>\n",
       "      <th>y</th>\n",
       "      <th>z</th>\n",
       "    </tr>\n",
       "  </thead>\n",
       "  <tbody>\n",
       "    <tr>\n",
       "      <td>0.23</td>\n",
       "      <td>Ideal</td>\n",
       "      <td>E</td>\n",
       "      <td>SI2</td>\n",
       "      <td>61.5</td>\n",
       "      <td>55.0</td>\n",
       "      <td>326</td>\n",
       "      <td>3.95</td>\n",
       "      <td>3.98</td>\n",
       "      <td>2.43</td>\n",
       "    </tr>\n",
       "    <tr>\n",
       "      <td>0.21</td>\n",
       "      <td>Premium</td>\n",
       "      <td>E</td>\n",
       "      <td>SI1</td>\n",
       "      <td>59.8</td>\n",
       "      <td>61.0</td>\n",
       "      <td>326</td>\n",
       "      <td>3.89</td>\n",
       "      <td>3.84</td>\n",
       "      <td>2.31</td>\n",
       "    </tr>\n",
       "    <tr>\n",
       "      <td>0.23</td>\n",
       "      <td>Good</td>\n",
       "      <td>E</td>\n",
       "      <td>VS1</td>\n",
       "      <td>56.9</td>\n",
       "      <td>65.0</td>\n",
       "      <td>327</td>\n",
       "      <td>4.05</td>\n",
       "      <td>4.07</td>\n",
       "      <td>2.31</td>\n",
       "    </tr>\n",
       "    <tr>\n",
       "      <td>0.29</td>\n",
       "      <td>Premium</td>\n",
       "      <td>I</td>\n",
       "      <td>VS2</td>\n",
       "      <td>62.4</td>\n",
       "      <td>58.0</td>\n",
       "      <td>334</td>\n",
       "      <td>4.20</td>\n",
       "      <td>4.23</td>\n",
       "      <td>2.63</td>\n",
       "    </tr>\n",
       "    <tr>\n",
       "      <td>0.31</td>\n",
       "      <td>Good</td>\n",
       "      <td>J</td>\n",
       "      <td>SI2</td>\n",
       "      <td>63.3</td>\n",
       "      <td>58.0</td>\n",
       "      <td>335</td>\n",
       "      <td>4.34</td>\n",
       "      <td>4.35</td>\n",
       "      <td>2.75</td>\n",
       "    </tr>\n",
       "  </tbody>\n",
       "</table>"
      ],
      "text/plain": [
       "<IPython.core.display.HTML object>"
      ]
     },
     "metadata": {},
     "output_type": "display_data"
    }
   ],
   "source": [
    "display(HTML(diamonds.head(5).to_html(index=False)))"
   ]
  },
  {
   "cell_type": "markdown",
   "metadata": {},
   "source": [
    "## Plots"
   ]
  },
  {
   "cell_type": "markdown",
   "metadata": {},
   "source": [
    "### Basic Plots"
   ]
  },
  {
   "cell_type": "markdown",
   "metadata": {},
   "source": [
    "#### Bar Charts of Counts"
   ]
  },
  {
   "cell_type": "code",
   "execution_count": 9,
   "metadata": {
    "tags": [
     "ex",
     "name:bar-counts",
     "package:ggplot"
    ]
   },
   "outputs": [
    {
     "data": {
      "image/png": "[encoded data removed]"
     },
     "metadata": {},
     "output_type": "display_data"
    }
   ],
   "source": [
    "%%R -w 10 -h 10 -u in\n",
    "ggplot(data=mpg) + \n",
    "    aes(x=manufacturer) + \n",
    "    geom_bar() + \n",
    "    coord_flip() +\n",
    "    ggtitle(\"Number of Cars by Make\")"
   ]
  },
  {
   "cell_type": "code",
   "execution_count": null,
   "metadata": {
    "tags": [
     "ex",
     "name:bar-counts",
     "package:pandas"
    ]
   },
   "outputs": [],
   "source": [
    "(mpg['manufacturer']\n",
    " .value_counts(sort=False)\n",
    " .plot.barh()\n",
    " .set_title('Number of Cars by Make')\n",
    ");"
   ]
  },
  {
   "cell_type": "code",
   "execution_count": null,
   "metadata": {
    "scrolled": false,
    "tags": [
     "ex",
     "name:bar-counts",
     "package:plotnine"
    ]
   },
   "outputs": [],
   "source": [
    "\"\"\"plotnine gives an error on `ggplot(data=mpg)`.\n",
    "\"\"\"\n",
    "(ggplot(mpg) + \n",
    "   aes(x=\"manufacturer\") +\n",
    "   geom_bar(size=20) + \n",
    "   coord_flip() +\n",
    "   ggtitle(\"Number of Cars by Make\")\n",
    ")"
   ]
  },
  {
   "cell_type": "code",
   "execution_count": null,
   "metadata": {
    "tags": [
     "ex",
     "name:bar-counts",
     "package:plotly"
    ]
   },
   "outputs": [],
   "source": [
    "mpgGrouped = mpg.groupby('manufacturer').size()\n",
    "fig = {\n",
    "    'data' : [{\n",
    "        'type' : 'bar',\n",
    "        'x' : mpgGrouped.values.tolist(),\n",
    "        'y' : mpgGrouped.index.tolist(),\n",
    "        'orientation' : 'h'\n",
    "        \n",
    "    }],\n",
    "    'layout' : {\n",
    "        'title' : 'Number of Cars by Make'\n",
    "    }\n",
    "}\n",
    "\n",
    "py.image.ishow(fig)"
   ]
  },
  {
   "cell_type": "markdown",
   "metadata": {},
   "source": [
    "#### Histogram of Continuous Values"
   ]
  },
  {
   "cell_type": "code",
   "execution_count": null,
   "metadata": {
    "tags": [
     "ex",
     "name:simple-histogram",
     "package:ggplot"
    ]
   },
   "outputs": [],
   "source": [
    "%%R -w 10 -h 10 -u in\n",
    "ggplot(data=mpg) + \n",
    "    aes(x=cty) + \n",
    "    geom_histogram(binwidth=2)"
   ]
  },
  {
   "cell_type": "code",
   "execution_count": null,
   "metadata": {
    "tags": [
     "ex",
     "name:simple-histogram",
     "package:matplotlib"
    ]
   },
   "outputs": [],
   "source": [
    "plt.hist('cty', bins=12, data=mpg);"
   ]
  },
  {
   "cell_type": "code",
   "execution_count": null,
   "metadata": {
    "scrolled": false,
    "tags": [
     "ex",
     "name:simple-histogram",
     "package:pandas"
    ]
   },
   "outputs": [],
   "source": [
    "(mpg['cty']\n",
    " .plot\n",
    " .hist(bins=12));"
   ]
  },
  {
   "cell_type": "code",
   "execution_count": null,
   "metadata": {
    "tags": [
     "ex",
     "name:simple-histogram",
     "package:plotnine"
    ]
   },
   "outputs": [],
   "source": [
    "(ggplot(mpg) + \n",
    "    aes(x=\"cty\") +\n",
    "    geom_histogram(binwidth=2))"
   ]
  },
  {
   "cell_type": "code",
   "execution_count": null,
   "metadata": {
    "scrolled": false,
    "tags": [
     "ex",
     "name:simple-histogram",
     "package:plotly"
    ]
   },
   "outputs": [],
   "source": [
    "fig = {\n",
    "    'data' : [{\n",
    "        'type' : 'histogram',\n",
    "        'x' : mpg['cty'],\n",
    "    }],\n",
    "}\n",
    "py.image.ishow(fig)"
   ]
  },
  {
   "cell_type": "markdown",
   "metadata": {},
   "source": [
    "#### Scatter Plot"
   ]
  },
  {
   "cell_type": "code",
   "execution_count": null,
   "metadata": {
    "tags": [
     "ex",
     "name:scatter-plot",
     "package:ggplot"
    ]
   },
   "outputs": [],
   "source": [
    "%%R -w 10 -h 10 -u in \n",
    "ggplot(data = mpg) +\n",
    "    aes(x = displ, y = hwy) +\n",
    "    geom_point() + \n",
    "    ggtitle(\"Engine Displacement in Liters vs Highway MPG\") +\n",
    "    xlab(\"Engine Displacement in Liters\") +\n",
    "    ylab(\"Highway MPG\")"
   ]
  },
  {
   "cell_type": "code",
   "execution_count": null,
   "metadata": {
    "tags": [
     "ex",
     "name:scatter-plot",
     "package:pandas"
    ]
   },
   "outputs": [],
   "source": [
    "(mpg\n",
    " .plot\n",
    " .scatter(x='displ', y='hwy')\n",
    " .set(title='Engine Displacement in Liters vs Highway MPG',\n",
    "      xlabel='Engine Displacement in Liters',\n",
    "      ylabel='Highway MPG'))"
   ]
  },
  {
   "cell_type": "code",
   "execution_count": null,
   "metadata": {
    "tags": [
     "ex",
     "name:scatter-plot",
     "package:plotnine"
    ]
   },
   "outputs": [],
   "source": [
    "(ggplot(mpg) +\n",
    "    aes(x = \"displ\", y = \"hwy\") +\n",
    "    geom_point() + \n",
    "    ggtitle(\"Engine Displacement in Liters vs Highway MPG\") +\n",
    "    xlab(\"Engine Displacement in Liters\") +\n",
    "    ylab(\"Highway MPG\"))"
   ]
  },
  {
   "cell_type": "code",
   "execution_count": null,
   "metadata": {
    "tags": [
     "ex",
     "name:scatter-plot",
     "package:plotly"
    ]
   },
   "outputs": [],
   "source": [
    "fig = {\n",
    "    'data' : [{\n",
    "        'type' : 'scatter',\n",
    "        'mode' : 'markers',\n",
    "        'x' : mpg.displ,\n",
    "        'y' : mpg.hwy        \n",
    "    }],\n",
    "    'layout' : {\n",
    "        'title' : 'Engine Displacement in Liters vs Highway MPG',\n",
    "        'xaxis' : {\n",
    "            'title' : 'Engine Displacement in Liters'\n",
    "        },\n",
    "        'yaxis' : {\n",
    "            'title' : 'Highway MPG'\n",
    "        }\n",
    "    }\n",
    "}\n",
    "py.image.ishow(fig)"
   ]
  },
  {
   "cell_type": "markdown",
   "metadata": {},
   "source": [
    "### Advanced Scatter Plotting"
   ]
  },
  {
   "cell_type": "code",
   "execution_count": null,
   "metadata": {
    "tags": [
     "ex",
     "name:scatter-with-regression",
     "package:ggplot"
    ]
   },
   "outputs": [],
   "source": [
    "%%R -w 10 -h 10 -u in \n",
    "ggplot(data = mpg) +\n",
    "    aes(x = displ, y = hwy) +\n",
    "    geom_point() +\n",
    "    geom_smooth(method=lm)"
   ]
  },
  {
   "cell_type": "code",
   "execution_count": null,
   "metadata": {
    "tags": [
     "ex",
     "name:scatter-with-regression",
     "package:plotnine"
    ]
   },
   "outputs": [],
   "source": [
    "(ggplot(mpg) +\n",
    "    aes(\"displ\", \"hwy\") +\n",
    "    geom_point() +\n",
    "    geom_smooth(method=\"lm\"))"
   ]
  },
  {
   "cell_type": "code",
   "execution_count": null,
   "metadata": {
    "tags": [
     "ex",
     "name:scatter-with-regression",
     "package:seaborn"
    ]
   },
   "outputs": [],
   "source": [
    "sns.lmplot(x=\"displ\", y=\"hwy\", \n",
    "           data=mpg, size=12)"
   ]
  },
  {
   "cell_type": "code",
   "execution_count": null,
   "metadata": {
    "tags": [
     "ex",
     "name:scatter-with-regression",
     "package:plotly"
    ]
   },
   "outputs": [],
   "source": [
    "'''No built in method to calculate and display confidence intervals.\n",
    "Must calculate manually and utilise existing features to build the confidence band.'''\n",
    "import statsmodels.api as sm\n",
    "from statsmodels.stats.outliers_influence import summary_table\n",
    "\n",
    "y=mpg.hwy\n",
    "x=mpg.displ\n",
    "X = sm.add_constant(x)\n",
    "res = sm.OLS(y, X).fit()\n",
    "\n",
    "st, data, ss2 = summary_table(res, alpha=0.05)\n",
    "preds = pd.DataFrame.from_records(data, columns=[s.replace('\\n', ' ') for s in ss2])\n",
    "preds['displ'] = mpg.displ\n",
    "preds = preds.sort_values(by='displ')\n",
    "\n",
    "fig = {\n",
    "    'data' : [{\n",
    "        # Add the data points\n",
    "            'type' : 'scatter',\n",
    "            'mode' : 'markers',\n",
    "            'x' : mpg.displ,\n",
    "            'y' : mpg.hwy,\n",
    "            'name' : 'Points'\n",
    "    },\n",
    "        {\n",
    "            # Now the regression line\n",
    "            'type' : 'scatter',\n",
    "            'mode' : 'lines',\n",
    "            'x' : preds['displ'],\n",
    "            'y' : preds['Predicted Value'],\n",
    "            'name' : 'Regression',\n",
    "        },\n",
    "        {\n",
    "            #Add a lower bound for the confidence interval, white\n",
    "            'type' : 'scatter',\n",
    "            'mode' : 'lines',\n",
    "            'x' : preds['displ'],\n",
    "            'y' : preds['Mean ci 95% low'],\n",
    "            'name' : 'Lower 95% CI',\n",
    "            'showlegend' : False,\n",
    "            'line' : {\n",
    "                'color' : 'white'\n",
    "            }\n",
    "    },\n",
    "        {\n",
    "            #Upper bound for the confidence band, transparent but with fill\n",
    "            'type' : 'scatter',\n",
    "            'mode' : 'lines',\n",
    "            'x' : preds['displ'],\n",
    "            'y' : preds['Mean ci 95% upp'],\n",
    "            'name' : '95% CI',\n",
    "            'fill' : 'tonexty',\n",
    "            'line' : {\n",
    "                'color' : 'white'\n",
    "            },\n",
    "            'fillcolor' : 'rgba(255, 127, 14, 0.3)'\n",
    "        }\n",
    "        \n",
    "    ],\n",
    "    'layout' : {\n",
    "        'title' : 'Engine Displacement in Liters vs Highway MPG',\n",
    "        'xaxis' : {\n",
    "            'title' : 'Engine Displacement in Liters'\n",
    "        },\n",
    "        'yaxis' : {\n",
    "            'title' : 'Highway MPG'\n",
    "        }\n",
    "    }\n",
    "}\n",
    "\n",
    "py.image.ishow(fig)"
   ]
  },
  {
   "cell_type": "markdown",
   "metadata": {},
   "source": [
    "#### Scatter Plot with Colors"
   ]
  },
  {
   "cell_type": "code",
   "execution_count": 10,
   "metadata": {
    "tags": [
     "ex",
     "name:scatter-plot-with-colors",
     "package:ggplot"
    ]
   },
   "outputs": [
    {
     "data": {
      "image/png": "[encoded data removed]"
     },
     "metadata": {},
     "output_type": "display_data"
    }
   ],
   "source": [
    "%%R -w 10 -h 10 -u in\n",
    "ggplot(data = mpg) + \n",
    "    aes(x = displ, y = hwy, color = class) +\n",
    "    geom_point() + \n",
    "    ggtitle(\"Engine Displacement in Liters vs Highway MPG\") +\n",
    "    xlab(\"Engine Displacement in Liters\") +\n",
    "    ylab(\"Highway MPG\")"
   ]
  },
  {
   "cell_type": "code",
   "execution_count": null,
   "metadata": {
    "scrolled": false,
    "tags": [
     "ex",
     "name:scatter-plot-with-colors",
     "package:matplotlib"
    ]
   },
   "outputs": [],
   "source": [
    "fig, ax = plt.subplots()\n",
    "for c, df in mpg.groupby('class'):\n",
    "    ax.scatter(df['displ'], df['hwy'], label=c)\n",
    "ax.legend()\n",
    "ax.set_title('Engine Displacement in Liters vs Highway MPG')\n",
    "ax.set_xlabel('Engine Displacement in Liters')\n",
    "ax.set_ylabel('Highway MPG');"
   ]
  },
  {
   "cell_type": "code",
   "execution_count": null,
   "metadata": {
    "tags": [
     "ex",
     "name:scatter-plot-with-colors",
     "package:seaborn"
    ]
   },
   "outputs": [],
   "source": [
    "\"\"\"seaborn.FacetGrid overrides the `rcParams['figure.figsize'] global parameter. \n",
    "You have to set the size in the size with `size=` in `FacetGrid`\"\"\"\n",
    "(sns\n",
    " .FacetGrid(mpg, hue=\"class\", size=10)\n",
    " .map(plt.scatter, \"displ\", \"hwy\")\n",
    " .add_legend()\n",
    " .set(\n",
    "    title=\"Engine Displacement in Liters vs Highway MPG\",\n",
    "    xlabel=\"Engine Displacement in Liters\",\n",
    "    ylabel=\"Highway MPG\"\n",
    "));"
   ]
  },
  {
   "cell_type": "code",
   "execution_count": null,
   "metadata": {
    "tags": [
     "ex",
     "name:scatter-plot-with-colors",
     "package:plotnine"
    ]
   },
   "outputs": [],
   "source": [
    "(ggplot(mpg) + \n",
    "    aes(x = \"displ\", y = \"hwy\", color = \"class\") +\n",
    "    geom_point() + \n",
    "    ggtitle(\"Engine Displacement in Liters vs Highway MPG\") +\n",
    "    xlab(\"Engine Displacement in Liters\") +\n",
    "    ylab(\"Highway MPG\"))"
   ]
  },
  {
   "cell_type": "code",
   "execution_count": null,
   "metadata": {
    "tags": [
     "ex",
     "name:scatter-plot-with-colors",
     "package:plotly"
    ]
   },
   "outputs": [],
   "source": [
    "traces = []\n",
    "for cls in mpg['class'].unique():\n",
    "    traces.append({\n",
    "        'type' : 'scatter',\n",
    "        'mode' : 'markers',\n",
    "        'x' : mpg.displ[mpg['class'] == cls],\n",
    "        'y' : mpg.hwy[mpg['class'] == cls],\n",
    "        'name' : cls\n",
    "    })\n",
    "    \n",
    "fig = {\n",
    "    'data' : traces,\n",
    "    'layout' : {\n",
    "        'title' : 'Engine Displacement in Liters vs Highway MPG',\n",
    "        'xaxis' : {\n",
    "            'title' : 'Engine Displacement in Liters',\n",
    "        },\n",
    "        'yaxis' : {\n",
    "            'title' : 'Highway MPG'\n",
    "        }\n",
    "    }\n",
    "}\n",
    "py.image.ishow(fig)"
   ]
  },
  {
   "cell_type": "markdown",
   "metadata": {},
   "source": [
    "#### Scatter Plot with Sizes and Transparency"
   ]
  },
  {
   "cell_type": "code",
   "execution_count": null,
   "metadata": {
    "tags": [
     "ex",
     "name:scatter-plot-with-size",
     "package:ggplot"
    ]
   },
   "outputs": [],
   "source": [
    "%%R -w 10 -h 10 -u in\n",
    "ggplot(data = mpg) +\n",
    "    aes(x = cty, y = hwy, size = cyl) +\n",
    "    geom_point(alpha=.5)"
   ]
  },
  {
   "cell_type": "code",
   "execution_count": null,
   "metadata": {
    "scrolled": false,
    "tags": [
     "ex",
     "name:scatter-plot-with-size",
     "package:pandas"
    ]
   },
   "outputs": [],
   "source": [
    "ax = (mpg\n",
    "    .plot\n",
    "    .scatter(x='cty', \n",
    "             y='hwy', \n",
    "             s=10*mpg['cyl'],\n",
    "             alpha=.5))\n",
    "ax.set_title('Engine Displacement in Liters vs Highway MPG')\n",
    "ax.set_xlabel('Engine Displacement in Liters')\n",
    "ax.set_ylabel('Highway MPG');"
   ]
  },
  {
   "cell_type": "code",
   "execution_count": null,
   "metadata": {
    "tags": [
     "ex",
     "name:scatter-plot-with-size",
     "package:plotnine"
    ]
   },
   "outputs": [],
   "source": [
    "(ggplot(mpg) +\n",
    "    aes(x=\"cty\", y=\"hwy\", size=\"cyl\") +\n",
    "    geom_point(alpha=.5))"
   ]
  },
  {
   "cell_type": "code",
   "execution_count": null,
   "metadata": {
    "tags": [
     "ex",
     "name:scatter-plot-with-size",
     "package:plotly"
    ]
   },
   "outputs": [],
   "source": [
    "traces = [{\n",
    "        'type' : 'scatter',\n",
    "        'mode' : 'markers',\n",
    "        'x' : mpg.cty,\n",
    "        'y' : mpg.hwy,\n",
    "        'marker' : {\n",
    "            'size' : mpg.cyl,\n",
    "            'color' : 'rgba(54,54,54,0.5)'\n",
    "        },\n",
    "        'name' : cls\n",
    "    }]\n",
    "    \n",
    "fig = {\n",
    "    'data' : traces,\n",
    "    'layout' : {\n",
    "        'title' : 'Engine Displacement in Liters vs Highway MPG',\n",
    "        'xaxis' : {\n",
    "            'title' : 'Engine Displacement in Liters',\n",
    "        },\n",
    "        'yaxis' : {\n",
    "            'title' : 'Highway MPG'\n",
    "        }\n",
    "    }\n",
    "}\n",
    "py.image.ishow(fig)"
   ]
  },
  {
   "cell_type": "markdown",
   "metadata": {},
   "source": [
    "#### Scatter Plot with Single Facet"
   ]
  },
  {
   "cell_type": "code",
   "execution_count": null,
   "metadata": {
    "tags": [
     "ex",
     "name:scatter-plot-with-facet",
     "package:ggplot"
    ]
   },
   "outputs": [],
   "source": [
    "%%R -w 10 -h 10 -u in\n",
    "ggplot(data = mpg) + \n",
    "  aes(x=displ, y=hwy) +\n",
    "  geom_point() + \n",
    "  facet_wrap(~ class, nrow = 2)"
   ]
  },
  {
   "cell_type": "code",
   "execution_count": null,
   "metadata": {
    "tags": [
     "ex",
     "name:scatter-plot-with-facet",
     "package:seaborn"
    ]
   },
   "outputs": [],
   "source": [
    "(mpg\n",
    " .pipe(sns.FacetGrid, \n",
    "       col=\"class\", \n",
    "       col_wrap=4, \n",
    "       aspect=.5, \n",
    "       size=6)\n",
    " .map(plt.scatter, \"displ\", \"hwy\", s=20)\n",
    " .fig.subplots_adjust(wspace=.2, hspace=.2)\n",
    ");"
   ]
  },
  {
   "cell_type": "code",
   "execution_count": null,
   "metadata": {
    "tags": [
     "ex",
     "name:scatter-plot-with-facet",
     "package:plotnine"
    ]
   },
   "outputs": [],
   "source": [
    "(ggplot(mpg.assign(c=mpg[\"class\"])) + \n",
    "  aes(x=\"displ\", y=\"hwy\") +\n",
    "  geom_point() +\n",
    "  facet_wrap(\" ~ c\", nrow = 2))"
   ]
  },
  {
   "cell_type": "code",
   "execution_count": null,
   "metadata": {
    "tags": [
     "ex",
     "name:scatter-plot-with-facet",
     "package:plotly"
    ]
   },
   "outputs": [],
   "source": [
    "fig = FF.create_facet_grid(df=mpg,\n",
    "                          x ='displ',\n",
    "                          y = 'cty',\n",
    "                          facet_col = 'class')\n",
    "py.image.ishow(fig)"
   ]
  },
  {
   "cell_type": "markdown",
   "metadata": {},
   "source": [
    "#### Scatter Plot with Facets"
   ]
  },
  {
   "cell_type": "code",
   "execution_count": null,
   "metadata": {
    "tags": [
     "ex",
     "name:scatter-plot-with-facets",
     "package:ggplot"
    ]
   },
   "outputs": [],
   "source": [
    "%%R -w 10 -h 10 -u in\n",
    "ggplot(data = mpg) + \n",
    "  aes(x = displ, y = hwy) +\n",
    "  geom_point() + \n",
    "  facet_grid(drv ~ cyl)"
   ]
  },
  {
   "cell_type": "code",
   "execution_count": null,
   "metadata": {
    "tags": [
     "ex",
     "name:scatter-plot-with-facets",
     "package:seaborn"
    ]
   },
   "outputs": [],
   "source": [
    "(mpg\n",
    " .pipe(sns.FacetGrid, \n",
    "       col=\"cyl\", \n",
    "       row=\"drv\", \n",
    "       aspect=.9, \n",
    "       size=4)\n",
    " .map(plt.scatter, \"displ\", \"hwy\", s=20)\n",
    " .fig.subplots_adjust(wspace=.02, hspace=.02)\n",
    ");"
   ]
  },
  {
   "cell_type": "code",
   "execution_count": null,
   "metadata": {
    "tags": [
     "ex",
     "name:scatter-plot-with-facets",
     "package:plotnine"
    ]
   },
   "outputs": [],
   "source": [
    "(ggplot(mpg) + \n",
    "  aes(x=\"displ\", y=\"hwy\") +\n",
    "  geom_point() + \n",
    "  facet_grid(\"drv ~ cyl\"))"
   ]
  },
  {
   "cell_type": "code",
   "execution_count": null,
   "metadata": {
    "tags": [
     "ex",
     "name:scatter-plot-with-facets",
     "package:plotly"
    ]
   },
   "outputs": [],
   "source": [
    "fig = FF.create_facet_grid(df=mpg,\n",
    "                          x ='displ',\n",
    "                          y = 'cty',\n",
    "                          facet_col = 'cyl',\n",
    "                          facet_row = 'drv')\n",
    "py.image.ishow(fig)"
   ]
  },
  {
   "cell_type": "markdown",
   "metadata": {},
   "source": [
    "Stacked Scatter and Smoothed Line Plot"
   ]
  },
  {
   "cell_type": "code",
   "execution_count": null,
   "metadata": {
    "tags": [
     "ex",
     "name:stacked-smooth-line-and-scatter",
     "package:ggplot"
    ]
   },
   "outputs": [],
   "source": [
    "%%R -w 10 -h 10 -u in\n",
    "subcompact = mpg[mpg$`class` == \"subcompact\", ]\n",
    "ggplot(data = mpg, \n",
    "       mapping = aes(x = displ, y = hwy)) + \n",
    "  geom_point(mapping = aes(color = class)) + \n",
    "  geom_smooth(data = subcompact, \n",
    "              se = FALSE,\n",
    "              method = 'loess')"
   ]
  },
  {
   "cell_type": "code",
   "execution_count": null,
   "metadata": {
    "tags": [
     "ex",
     "name:stacked-smooth-line-and-scatter",
     "package:plotnine"
    ]
   },
   "outputs": [],
   "source": [
    "\"\"\"Notice the smoothed line isn't as smooth as it is in ggplot2.\"\"\"\n",
    "(ggplot(data=mpg, \n",
    "        mapping=aes(x=\"displ\", y=\"hwy\")) + \n",
    "  geom_point(mapping=aes(color = \"class\")) + \n",
    "  geom_smooth(data=mpg[mpg['class'] == \"subcompact\"], \n",
    "              se=False,\n",
    "              method = 'loess'\n",
    "             ))"
   ]
  },
  {
   "cell_type": "code",
   "execution_count": null,
   "metadata": {
    "tags": [
     "ex",
     "name:stacked-smooth-line-and-scatter",
     "package:plotly"
    ]
   },
   "outputs": [],
   "source": [
    "'''Plotly's builtin smoothing function is very weak'''\n",
    "\n",
    "traces = []\n",
    "for cls in mpg['class'].unique():\n",
    "    traces.append({\n",
    "        'type' : 'scatter',\n",
    "        'mode' : 'markers',\n",
    "        'x' : mpg.displ[mpg['class'] == cls],\n",
    "        'y' : mpg.hwy[mpg['class'] == cls],\n",
    "        'name' : cls\n",
    "    })\n",
    "\n",
    "    \n",
    "subcompact = mpg[mpg['class'] == 'subcompact'].sort_values(by='displ')\n",
    "\n",
    "traces.append({\n",
    "    'type' : 'scatter',\n",
    "    'mode' : 'lines',\n",
    "    'x' : subcompact.displ,\n",
    "    'y' : subcompact.hwy,\n",
    "    'name' : 'smoothing',\n",
    "    'line' : {\n",
    "        'shape' : 'spline',\n",
    "        'smoothing' : 1.3\n",
    "    }\n",
    "})\n",
    "    \n",
    "fig = {\n",
    "    'data' : traces,\n",
    "    'layout' : {\n",
    "        'title' : 'Engine Displacement in Liters vs Highway MPG',\n",
    "        'xaxis' : {\n",
    "            'title' : 'Engine Displacement in Liters',\n",
    "        },\n",
    "        'yaxis' : {\n",
    "            'title' : 'Highway MPG'\n",
    "        }\n",
    "    }\n",
    "}\n",
    "py.image.ishow(fig)"
   ]
  },
  {
   "cell_type": "code",
   "execution_count": null,
   "metadata": {
    "tags": [
     "ex",
     "name:stacked-bar-chart",
     "package:ggplot"
    ]
   },
   "outputs": [],
   "source": [
    "%%R -w 10 -h 10 -u in\n",
    "ggplot(data = diamonds) + \n",
    "  aes(x = cut, fill = clarity) +\n",
    "  geom_bar()"
   ]
  },
  {
   "cell_type": "code",
   "execution_count": null,
   "metadata": {
    "tags": [
     "ex",
     "name:stacked-bar-chart",
     "package:plotnine"
    ]
   },
   "outputs": [],
   "source": [
    "(ggplot(diamonds) + \n",
    "  aes(x=\"cut\", fill=\"clarity\") +\n",
    "  geom_bar())"
   ]
  },
  {
   "cell_type": "code",
   "execution_count": null,
   "metadata": {
    "tags": [
     "ex",
     "name:stacked-bar-chart",
     "package:pandas"
    ]
   },
   "outputs": [],
   "source": [
    "(diamonds\n",
    " .groupby(['cut', 'clarity'])\n",
    " .size()\n",
    " .unstack()\n",
    " .plot.bar(stacked=True)\n",
    ");"
   ]
  },
  {
   "cell_type": "code",
   "execution_count": null,
   "metadata": {
    "tags": [
     "ex",
     "name:stacked-bar-chart",
     "package:plotly"
    ]
   },
   "outputs": [],
   "source": [
    "traces = []\n",
    "newDiamond = diamonds.groupby(['cut','clarity']).size().unstack()\n",
    "for c in newDiamond.columns:\n",
    "    traces.append({\n",
    "        'type' : 'bar',\n",
    "        'x' : newDiamond.index,\n",
    "        'y' : newDiamond[c],\n",
    "        'name' : c\n",
    "    })\n",
    "fig = {\n",
    "    'data' : traces,\n",
    "    'layout' : {\n",
    "        'barmode' : 'stack',\n",
    "        'xaxis' : {\n",
    "            'title' : 'cut'\n",
    "        },        \n",
    "    }\n",
    "}\n",
    "py.image.ishow(fig)"
   ]
  },
  {
   "cell_type": "code",
   "execution_count": null,
   "metadata": {
    "tags": [
     "ex",
     "name:dodged-bar-chart",
     "package:ggplot"
    ]
   },
   "outputs": [],
   "source": [
    "%%R -w 10 -h 10 -u in\n",
    "ggplot(data = diamonds) + \n",
    "  aes(x = cut, fill = clarity) +\n",
    "  geom_bar(position = \"dodge\")"
   ]
  },
  {
   "cell_type": "code",
   "execution_count": null,
   "metadata": {
    "tags": [
     "ex",
     "name:dodged-bar-chart",
     "package:plotnine"
    ]
   },
   "outputs": [],
   "source": [
    "(ggplot(diamonds) + \n",
    "  aes(x='cut', fill='clarity') +\n",
    "  geom_bar(position = \"dodge\"))\n"
   ]
  },
  {
   "cell_type": "code",
   "execution_count": null,
   "metadata": {
    "tags": [
     "ex",
     "name:dodged-bar-chart",
     "package:pandas"
    ]
   },
   "outputs": [],
   "source": [
    "(diamonds\n",
    " .groupby(['cut', 'clarity'])\n",
    " .size()\n",
    " .unstack()\n",
    " .plot.bar()\n",
    ");"
   ]
  },
  {
   "cell_type": "code",
   "execution_count": null,
   "metadata": {
    "tags": [
     "name:dodged-bar-chart",
     "package:plotly",
     "ex"
    ]
   },
   "outputs": [],
   "source": [
    "traces = []\n",
    "newDiamond = diamonds.groupby(['cut','clarity']).size().unstack()\n",
    "for c in newDiamond.columns:\n",
    "    traces.append({\n",
    "        'type' : 'bar',\n",
    "        'x' : newDiamond.index,\n",
    "        'y' : newDiamond[c],\n",
    "        'name' : c\n",
    "    })\n",
    "fig = {\n",
    "    'data' : traces,\n",
    "    'layout' : {\n",
    "        'barmode' : 'group',\n",
    "        'xaxis' : {\n",
    "            'title' : 'cut'\n",
    "        },        \n",
    "    }\n",
    "}\n",
    "py.image.ishow(fig)"
   ]
  },
  {
   "cell_type": "code",
   "execution_count": null,
   "metadata": {
    "tags": [
     "ex",
     "name:stacked-kde",
     "package:ggplot"
    ]
   },
   "outputs": [],
   "source": [
    "%%R -w 10 -h 10 -u in\n",
    "ggplot(diamonds) +\n",
    "  aes(depth, fill = cut, colour = cut) +\n",
    "  geom_density(alpha = 0.1) +\n",
    "  xlim(55, 70)"
   ]
  },
  {
   "cell_type": "code",
   "execution_count": null,
   "metadata": {
    "tags": [
     "ex",
     "name:stacked-kde",
     "package:pandas"
    ]
   },
   "outputs": [],
   "source": [
    "\"\"\"I don't know whether Pandas can fill a KDE curve.\n",
    "\n",
    "This requires using some Matplotlib to get them to stack and to have a legend.\n",
    "\"\"\"\n",
    "fig, ax = plt.subplots()\n",
    "ax.set_xlim(55, 70)\n",
    "for cut in diamonds['cut'].unique():\n",
    "    s = diamonds[diamonds[\"cut\"] == cut]['depth']\n",
    "    s.plot.kde(ax=ax, label=cut)\n",
    "ax.legend()"
   ]
  },
  {
   "cell_type": "code",
   "execution_count": null,
   "metadata": {
    "tags": [
     "ex",
     "name:stacked-kde",
     "package:seaborn"
    ]
   },
   "outputs": [],
   "source": [
    "(sns\n",
    "  .FacetGrid(diamonds, \n",
    "             hue=\"cut\", \n",
    "             size=10, \n",
    "             xlim=(55, 70))\n",
    "  .map(sns.kdeplot, 'depth', shade=True)\n",
    " .add_legend()\n",
    ");"
   ]
  },
  {
   "cell_type": "code",
   "execution_count": null,
   "metadata": {
    "scrolled": false,
    "tags": [
     "ex",
     "name:stacked-kde",
     "package:plotnine"
    ]
   },
   "outputs": [],
   "source": [
    "\"\"\"`+ xlim(55, 70)` results in an error.\"\"\"\n",
    "(ggplot(diamonds) +\n",
    "  aes('depth', fill='cut', color='cut') +\n",
    "  geom_density(alpha=0.1))"
   ]
  },
  {
   "cell_type": "code",
   "execution_count": null,
   "metadata": {
    "tags": [
     "ex",
     "name:stacked-kde",
     "package:plotly"
    ]
   },
   "outputs": [],
   "source": [
    "fig = FF.create_distplot(\n",
    "                            [diamonds['depth'][diamonds['cut'] == c].values for c in diamonds.cut.unique()], \n",
    "                            diamonds.cut.unique(), \n",
    "                            show_hist=False,\n",
    "                            show_rug=False\n",
    "                           )\n",
    "for d in fig['data']:\n",
    "    d.update({'fill' : 'tozeroy'})\n",
    "\n",
    "py.image.ishow(fig)"
   ]
  },
  {
   "cell_type": "code",
   "execution_count": null,
   "metadata": {
    "tags": [
     "ex",
     "name:timeseries",
     "package:ggplot"
    ]
   },
   "outputs": [],
   "source": [
    "%%R -i ts -w 10 -h 10 -u in \n",
    "ggplot(ts) + aes(date, value) + geom_line()"
   ]
  },
  {
   "cell_type": "code",
   "execution_count": null,
   "metadata": {
    "tags": [
     "ex",
     "name:timeseries",
     "package:plotnine"
    ]
   },
   "outputs": [],
   "source": [
    "(ggplot(ts) \n",
    " + aes(\"date\", \"value\") \n",
    " + geom_line())"
   ]
  },
  {
   "cell_type": "code",
   "execution_count": null,
   "metadata": {
    "tags": [
     "ex",
     "name:timeseries",
     "package:pandas"
    ]
   },
   "outputs": [],
   "source": [
    "ts.set_index('date')['value'].plot()"
   ]
  },
  {
   "cell_type": "code",
   "execution_count": null,
   "metadata": {
    "tags": [
     "ex",
     "name:timeseries",
     "package:plotly"
    ]
   },
   "outputs": [],
   "source": [
    "fig = {'data' : [{\n",
    "    'type' : 'scatter',\n",
    "    'mode' :'lines',\n",
    "    'x' : ts.date,\n",
    "    'y' : ts.value\n",
    "}],\n",
    "      'layout' : {\n",
    "          'xaxis' : {\n",
    "              'title' : 'date'\n",
    "          }\n",
    "      }}\n",
    "\n",
    "py.image.ishow(fig)"
   ]
  }
 ],
 "metadata": {
  "celltoolbar": "Tags",
  "kernelspec": {
   "display_name": "Python 3",
   "language": "python",
   "name": "python3"
  },
  "language_info": {
   "codemirror_mode": {
    "name": "ipython",
    "version": 3
   },
   "file_extension": ".py",
   "mimetype": "text/x-python",
   "name": "python",
   "nbconvert_exporter": "python",
   "pygments_lexer": "ipython3",
   "version": "3.6.8"
  }
 },
 "nbformat": 4,
 "nbformat_minor": 2
}
